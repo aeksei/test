{
 "cells": [
  {
   "cell_type": "markdown",
   "metadata": {},
   "source": [
    "## Имена переменных"
   ]
  },
  {
   "cell_type": "markdown",
   "metadata": {},
   "source": [
    "Для переменных, функций необходимо использовать:\n",
    "Первым символом *a‥zA‥Z_*, а потом *a‥zA‥Z_0‥9*\n",
    "\n",
    "* нелатинские буквы разрешены, но избегайте их\n",
    "* ключевые слова языка запрещены\n",
    "* маленькие/БОЛЬШИЕ буквы отличаются\n",
    "\n",
    "Примеры:\n",
    "- Правильно ☺: a toto x7 y_max BigOne\n",
    "- Неправильно ☹: ~~8y~~ ~~and~~"
   ]
  },
  {
   "cell_type": "code",
   "execution_count": 2,
   "metadata": {},
   "outputs": [],
   "source": [
    "# Это первый комментарий\n",
    "spam = 1  # Это второй комментарий\n",
    "          # ... и это третий комментарий\n",
    "text = \"# Это не комментарий, потому что значок решетки заключен в ковычки\""
   ]
  },
  {
   "cell_type": "markdown",
   "metadata": {},
   "source": [
    "## Присвоение переменным"
   ]
  },
  {
   "cell_type": "code",
   "execution_count": 4,
   "metadata": {},
   "outputs": [
    {
     "data": {
      "text/plain": [
       "900"
      ]
     },
     "execution_count": 4,
     "metadata": {},
     "output_type": "execute_result"
    }
   ],
   "source": [
    "width = 20  # ширина прямоугольника\n",
    "height = 5 * 9  # длина прямоугольника\n",
    "\n",
    "width * height"
   ]
  },
  {
   "cell_type": "markdown",
   "metadata": {},
   "source": [
    "## Типы переменных\n",
    "\n",
    "Переменные бывают следующих типов:\n",
    "* целые числа\n",
    "* вещественные числа (с запятой)\n",
    "* строковые данные"
   ]
  },
  {
   "cell_type": "code",
   "execution_count": 18,
   "metadata": {},
   "outputs": [
    {
     "name": "stdout",
     "output_type": "stream",
     "text": [
      "23 -15\n"
     ]
    }
   ],
   "source": [
    "# целые числа\n",
    "integer = 23\n",
    "integer_from_str = int(\"-15\")\n",
    "\n",
    "print(integer, integer_from_str)"
   ]
  },
  {
   "cell_type": "code",
   "execution_count": 19,
   "metadata": {},
   "outputs": [
    {
     "name": "stdout",
     "output_type": "stream",
     "text": [
      "-0.5\n",
      "12.25\n"
     ]
    }
   ],
   "source": [
    "# вещественные числа\n",
    "float_number = -0.5\n",
    "float_number_from_str = float(\"12.25\")\n",
    "\n",
    "print(float_number)\n",
    "print(float_number_from_str)"
   ]
  },
  {
   "cell_type": "markdown",
   "metadata": {},
   "source": [
    "## Операции с числами\n",
    "\n",
    "Для работы с числами можно использовать следующие операторы: \n",
    "* \" + \" - сложение\n",
    "* \" - \" - вычитание\n",
    "* \" * \" - умножение\n",
    "* \" / \" - деление\n",
    "* \" // \" - целая часть от деления\n",
    "* \" % \" - остаток от деления\n",
    "* \" ** \" - возведение в степень "
   ]
  },
  {
   "cell_type": "code",
   "execution_count": 22,
   "metadata": {},
   "outputs": [
    {
     "name": "stdout",
     "output_type": "stream",
     "text": [
      "4\n",
      "20\n",
      "5.0\n",
      "1.6\n"
     ]
    }
   ],
   "source": [
    "print(2 + 2)\n",
    "print(50 - 5*6) \n",
    "print((50 - 5*6) / 4)\n",
    "print(8 / 5)  # деление всегда возвращает вещественное число"
   ]
  },
  {
   "cell_type": "code",
   "execution_count": 25,
   "metadata": {},
   "outputs": [
    {
     "name": "stdout",
     "output_type": "stream",
     "text": [
      "5.666666666666667\n",
      "5\n",
      "2\n",
      "16\n"
     ]
    }
   ],
   "source": [
    "print(17 / 3)  # обычное деление возвращает вещественное число\n",
    "\n",
    "print(17 // 3)  # оператор // возвращает целую часть от деления\n",
    "\n",
    "print(17 % 3)  # оператор % возвращает остаток от деления\n",
    "\n",
    "print(2 ** 4)  # возведение в степень, сокращеная запись 2*2*2*2"
   ]
  },
  {
   "cell_type": "markdown",
   "metadata": {},
   "source": [
    "### Задача 1\n",
    "Дано расстояние L в сантиметрах. Используя операцию деления нацело, \n",
    "найти количество полных метров в нем. "
   ]
  },
  {
   "cell_type": "code",
   "execution_count": null,
   "metadata": {},
   "outputs": [],
   "source": []
  },
  {
   "cell_type": "markdown",
   "metadata": {},
   "source": [
    "### Задача 2\n",
    "Даны целые положительные числа A и B (A > B). На отрезке длины A\n",
    "размещено максимально возможное количество отрезков длины B \n",
    "(без наложений). Используя операцию взятия остатка от \n",
    "деления нацело, найти длину незанятой части отрезка A. "
   ]
  },
  {
   "cell_type": "code",
   "execution_count": null,
   "metadata": {},
   "outputs": [],
   "source": []
  },
  {
   "cell_type": "markdown",
   "metadata": {},
   "source": [
    "## Задача 3\n",
    "Дано двузначное число. Вывести число, полученное \n",
    "при перестановке цифр исходного числа. "
   ]
  },
  {
   "cell_type": "code",
   "execution_count": null,
   "metadata": {},
   "outputs": [],
   "source": []
  },
  {
   "cell_type": "markdown",
   "metadata": {},
   "source": [
    "## Задача 4 \n",
    "Дано трехзначное число. В нем зачеркнули первую справа цифру и\n",
    "приписали ее слева. Вывести полученное число"
   ]
  },
  {
   "cell_type": "code",
   "execution_count": null,
   "metadata": {},
   "outputs": [],
   "source": []
  },
  {
   "cell_type": "markdown",
   "metadata": {},
   "source": [
    "## Задача 5\n",
    "С начала суток прошло N секунд (N — целое). Найти количество\n",
    "полных минут, прошедших с начала последнего часа."
   ]
  },
  {
   "cell_type": "code",
   "execution_count": null,
   "metadata": {},
   "outputs": [],
   "source": []
  },
  {
   "cell_type": "markdown",
   "metadata": {},
   "source": [
    "## Задача 6\n",
    "Дни недели пронумерованы следующим образом: 0 — воскресенье,\n",
    "1 — понедельник, 2 — вторник, …, 6 — суббота. Дано целое число K, \n",
    "лежащее в диапазоне 1–365. Определить номер дня недели для K-го дня года,\n",
    "если известно, что в этом году 1 января было понедельником. "
   ]
  },
  {
   "cell_type": "code",
   "execution_count": null,
   "metadata": {},
   "outputs": [],
   "source": []
  },
  {
   "cell_type": "markdown",
   "metadata": {},
   "source": [
    "## Тип данных - строки\n",
    "Строки могут быть заключены в одинарные или двойные кавычки"
   ]
  },
  {
   "cell_type": "code",
   "execution_count": 30,
   "metadata": {},
   "outputs": [
    {
     "data": {
      "text/plain": [
       "'2344523234'"
      ]
     },
     "execution_count": 30,
     "metadata": {},
     "output_type": "execute_result"
    }
   ],
   "source": [
    "# строки\n",
    "test = 'ololo'\n",
    "line = \"qwerty\"\n",
    "str(2344523234)"
   ]
  },
  {
   "cell_type": "code",
   "execution_count": 28,
   "metadata": {},
   "outputs": [
    {
     "data": {
      "text/plain": [
       "'First line.\\nSecond line.'"
      ]
     },
     "execution_count": 28,
     "metadata": {},
     "output_type": "execute_result"
    }
   ],
   "source": [
    "s = 'First line.\\nSecond line.'  # \\n данное сочетание означает переход на новую строку\n",
    "s  # если не использовать функцию print(), сочетание \\n будет так и выведено"
   ]
  },
  {
   "cell_type": "code",
   "execution_count": 29,
   "metadata": {},
   "outputs": [
    {
     "name": "stdout",
     "output_type": "stream",
     "text": [
      "First line.\n",
      "Second line.\n"
     ]
    }
   ],
   "source": [
    "print(s)  # с функцией print(), \\n переведет курсор на новую строку"
   ]
  },
  {
   "cell_type": "code",
   "execution_count": 33,
   "metadata": {},
   "outputs": [
    {
     "data": {
      "text/plain": [
       "'unununium'"
      ]
     },
     "execution_count": 33,
     "metadata": {},
     "output_type": "execute_result"
    }
   ],
   "source": [
    "# 3 times 'un', followed by 'ium'\n",
    "3 * 'un' + 'ium'"
   ]
  },
  {
   "cell_type": "code",
   "execution_count": 34,
   "metadata": {},
   "outputs": [
    {
     "data": {
      "text/plain": [
       "'n'"
      ]
     },
     "execution_count": 34,
     "metadata": {},
     "output_type": "execute_result"
    }
   ],
   "source": [
    "word = 'Python'\n",
    "print(word[0])  # символ на позиции 0\n",
    "\n",
    "print(word[5])  # символ на позиции 5"
   ]
  },
  {
   "cell_type": "code",
   "execution_count": 38,
   "metadata": {},
   "outputs": [
    {
     "name": "stdout",
     "output_type": "stream",
     "text": [
      "n\n",
      "o\n",
      "P\n"
     ]
    }
   ],
   "source": [
    "print(word[-1])  # последний символ\n",
    "\n",
    "print(word[-2])  # предпоследний символ\n",
    "\n",
    "print(word[-6])"
   ]
  },
  {
   "cell_type": "code",
   "execution_count": 39,
   "metadata": {},
   "outputs": [
    {
     "name": "stdout",
     "output_type": "stream",
     "text": [
      "Py\n",
      "tho\n"
     ]
    }
   ],
   "source": [
    "print(word[0:2])  # символы с позиции 0 (включая) до 2 (не включая)\n",
    "\n",
    "print(word[2:5])  # символы с позиции 2 (включая) до 5 (не включая)"
   ]
  },
  {
   "cell_type": "raw",
   "metadata": {},
   "source": [
    " +---+---+---+---+---+---+\n",
    " | P | y | t | h | o | n |\n",
    " +---+---+---+---+---+---+\n",
    "   0   1   2   3   4   5   6\n",
    "  -6  -5  -4  -3  -2  -1"
   ]
  },
  {
   "cell_type": "code",
   "execution_count": 41,
   "metadata": {},
   "outputs": [
    {
     "data": {
      "text/plain": [
       "'китнаморенеромантик'"
      ]
     },
     "execution_count": 41,
     "metadata": {},
     "output_type": "execute_result"
    }
   ],
   "source": [
    "poli = \"кит на море не романтик\"\n",
    "poli[::-1]"
   ]
  },
  {
   "cell_type": "code",
   "execution_count": null,
   "metadata": {},
   "outputs": [],
   "source": []
  }
 ],
 "metadata": {
  "kernelspec": {
   "display_name": "Python 3",
   "language": "python",
   "name": "python3"
  },
  "language_info": {
   "codemirror_mode": {
    "name": "ipython",
    "version": 3
   },
   "file_extension": ".py",
   "mimetype": "text/x-python",
   "name": "python",
   "nbconvert_exporter": "python",
   "pygments_lexer": "ipython3",
   "version": "3.7.0"
  }
 },
 "nbformat": 4,
 "nbformat_minor": 2
}
